{
  "nbformat": 4,
  "nbformat_minor": 0,
  "metadata": {
    "colab": {
      "provenance": []
    },
    "kernelspec": {
      "name": "python3",
      "display_name": "Python 3"
    },
    "language_info": {
      "name": "python"
    }
  },
  "cells": [
    {
      "cell_type": "markdown",
      "source": [
        "# Getting Started with PySpark"
      ],
      "metadata": {
        "id": "ug9GewcjPEs0"
      }
    },
    {
      "cell_type": "markdown",
      "source": [
        "## Install Spark & Java"
      ],
      "metadata": {
        "id": "kElFwWFfcyI3"
      }
    },
    {
      "cell_type": "markdown",
      "source": [
        "Spark requires Java to run because it is built on the JVM. We download and extract Apache Spark (version 3.5.0). The findspark library helps Python to locate Spark installation easily.\n"
      ],
      "metadata": {
        "id": "gS7kDBGHdU8p"
      }
    },
    {
      "cell_type": "code",
      "execution_count": null,
      "metadata": {
        "id": "dpNfrsGlYzev"
      },
      "outputs": [],
      "source": [
        "!apt-get install openjdk-11-jdk-headless -qq > /dev/null\n",
        "!wget -q https://archive.apache.org/dist/spark/spark-3.5.0/spark-3.5.0-bin-hadoop3.tgz\n",
        "!tar xf spark-3.5.0-bin-hadoop3.tgz\n",
        "!pip install -q findspark kaggle"
      ]
    },
    {
      "cell_type": "markdown",
      "source": [
        "## Import required libraries"
      ],
      "metadata": {
        "id": "p2QfD2aVGBKw"
      }
    },
    {
      "cell_type": "code",
      "source": [
        "import os\n",
        "from pyspark.sql import SparkSession\n",
        "from pyspark.sql.functions import col, year, count, desc, split, explode\n",
        "import matplotlib.pyplot as plt\n",
        "import findspark"
      ],
      "metadata": {
        "id": "ACPHtjzDY4OO"
      },
      "execution_count": null,
      "outputs": []
    },
    {
      "cell_type": "markdown",
      "source": [
        "## Set Environment Variables"
      ],
      "metadata": {
        "id": "0kXfJQatc0c-"
      }
    },
    {
      "cell_type": "code",
      "source": [
        "os.environ[\"JAVA_HOME\"] = \"/usr/lib/jvm/java-11-openjdk-amd64\"\n",
        "os.environ[\"SPARK_HOME\"] = \"/content/spark-3.5.0-bin-hadoop3\""
      ],
      "metadata": {
        "id": "FdcWNln7Ef3P"
      },
      "execution_count": null,
      "outputs": []
    },
    {
      "cell_type": "markdown",
      "source": [
        "## Initialize Spark Session"
      ],
      "metadata": {
        "id": "R89zA_Wwc4Dc"
      }
    },
    {
      "cell_type": "markdown",
      "source": [
        "SparkSession is the entry point to Spark functionality in Python (PySpark). We will create a Spark application called \"Netflix-Spark-Activity\"."
      ],
      "metadata": {
        "id": "L4P6uFyYddK5"
      }
    },
    {
      "cell_type": "code",
      "source": [
        "findspark.init()\n",
        "spark = SparkSession.builder.appName(\"Netflix-Spark-Analysis\").getOrCreate()\n",
        "spark"
      ],
      "metadata": {
        "colab": {
          "base_uri": "https://localhost:8080/",
          "height": 219
        },
        "id": "wrZilHiUY6O7",
        "outputId": "09dd676c-8ab9-4e27-e20e-a8abfc8f7326"
      },
      "execution_count": null,
      "outputs": [
        {
          "output_type": "execute_result",
          "data": {
            "text/plain": [
              "<pyspark.sql.session.SparkSession at 0x787330144e90>"
            ],
            "text/html": [
              "\n",
              "            <div>\n",
              "                <p><b>SparkSession - in-memory</b></p>\n",
              "                \n",
              "        <div>\n",
              "            <p><b>SparkContext</b></p>\n",
              "\n",
              "            <p><a href=\"http://1bda48b9eb8d:4040\">Spark UI</a></p>\n",
              "\n",
              "            <dl>\n",
              "              <dt>Version</dt>\n",
              "                <dd><code>v3.5.0</code></dd>\n",
              "              <dt>Master</dt>\n",
              "                <dd><code>local[*]</code></dd>\n",
              "              <dt>AppName</dt>\n",
              "                <dd><code>Netflix-Spark-Analysis</code></dd>\n",
              "            </dl>\n",
              "        </div>\n",
              "        \n",
              "            </div>\n",
              "        "
            ]
          },
          "metadata": {},
          "execution_count": 4
        }
      ]
    },
    {
      "cell_type": "markdown",
      "source": [
        "## Load Dataset into Spark\n",
        "\n",
        "We can use the colab upload feature if needed, or cancel and upload to files."
      ],
      "metadata": {
        "id": "8ScSDTVxc8hw"
      }
    },
    {
      "cell_type": "code",
      "source": [
        "from google.colab import files\n",
        "uploaded = files.upload()"
      ],
      "metadata": {
        "colab": {
          "base_uri": "https://localhost:8080/",
          "height": 73
        },
        "id": "UvW3IWhQEtIn",
        "outputId": "76ef5a88-dfd9-4ad8-ff8d-aeac17b662b0"
      },
      "execution_count": null,
      "outputs": [
        {
          "output_type": "display_data",
          "data": {
            "text/plain": [
              "<IPython.core.display.HTML object>"
            ],
            "text/html": [
              "\n",
              "     <input type=\"file\" id=\"files-1c441a2a-83d8-4f7d-bb57-a7b28d114526\" name=\"files[]\" multiple disabled\n",
              "        style=\"border:none\" />\n",
              "     <output id=\"result-1c441a2a-83d8-4f7d-bb57-a7b28d114526\">\n",
              "      Upload widget is only available when the cell has been executed in the\n",
              "      current browser session. Please rerun this cell to enable.\n",
              "      </output>\n",
              "      <script>// Copyright 2017 Google LLC\n",
              "//\n",
              "// Licensed under the Apache License, Version 2.0 (the \"License\");\n",
              "// you may not use this file except in compliance with the License.\n",
              "// You may obtain a copy of the License at\n",
              "//\n",
              "//      http://www.apache.org/licenses/LICENSE-2.0\n",
              "//\n",
              "// Unless required by applicable law or agreed to in writing, software\n",
              "// distributed under the License is distributed on an \"AS IS\" BASIS,\n",
              "// WITHOUT WARRANTIES OR CONDITIONS OF ANY KIND, either express or implied.\n",
              "// See the License for the specific language governing permissions and\n",
              "// limitations under the License.\n",
              "\n",
              "/**\n",
              " * @fileoverview Helpers for google.colab Python module.\n",
              " */\n",
              "(function(scope) {\n",
              "function span(text, styleAttributes = {}) {\n",
              "  const element = document.createElement('span');\n",
              "  element.textContent = text;\n",
              "  for (const key of Object.keys(styleAttributes)) {\n",
              "    element.style[key] = styleAttributes[key];\n",
              "  }\n",
              "  return element;\n",
              "}\n",
              "\n",
              "// Max number of bytes which will be uploaded at a time.\n",
              "const MAX_PAYLOAD_SIZE = 100 * 1024;\n",
              "\n",
              "function _uploadFiles(inputId, outputId) {\n",
              "  const steps = uploadFilesStep(inputId, outputId);\n",
              "  const outputElement = document.getElementById(outputId);\n",
              "  // Cache steps on the outputElement to make it available for the next call\n",
              "  // to uploadFilesContinue from Python.\n",
              "  outputElement.steps = steps;\n",
              "\n",
              "  return _uploadFilesContinue(outputId);\n",
              "}\n",
              "\n",
              "// This is roughly an async generator (not supported in the browser yet),\n",
              "// where there are multiple asynchronous steps and the Python side is going\n",
              "// to poll for completion of each step.\n",
              "// This uses a Promise to block the python side on completion of each step,\n",
              "// then passes the result of the previous step as the input to the next step.\n",
              "function _uploadFilesContinue(outputId) {\n",
              "  const outputElement = document.getElementById(outputId);\n",
              "  const steps = outputElement.steps;\n",
              "\n",
              "  const next = steps.next(outputElement.lastPromiseValue);\n",
              "  return Promise.resolve(next.value.promise).then((value) => {\n",
              "    // Cache the last promise value to make it available to the next\n",
              "    // step of the generator.\n",
              "    outputElement.lastPromiseValue = value;\n",
              "    return next.value.response;\n",
              "  });\n",
              "}\n",
              "\n",
              "/**\n",
              " * Generator function which is called between each async step of the upload\n",
              " * process.\n",
              " * @param {string} inputId Element ID of the input file picker element.\n",
              " * @param {string} outputId Element ID of the output display.\n",
              " * @return {!Iterable<!Object>} Iterable of next steps.\n",
              " */\n",
              "function* uploadFilesStep(inputId, outputId) {\n",
              "  const inputElement = document.getElementById(inputId);\n",
              "  inputElement.disabled = false;\n",
              "\n",
              "  const outputElement = document.getElementById(outputId);\n",
              "  outputElement.innerHTML = '';\n",
              "\n",
              "  const pickedPromise = new Promise((resolve) => {\n",
              "    inputElement.addEventListener('change', (e) => {\n",
              "      resolve(e.target.files);\n",
              "    });\n",
              "  });\n",
              "\n",
              "  const cancel = document.createElement('button');\n",
              "  inputElement.parentElement.appendChild(cancel);\n",
              "  cancel.textContent = 'Cancel upload';\n",
              "  const cancelPromise = new Promise((resolve) => {\n",
              "    cancel.onclick = () => {\n",
              "      resolve(null);\n",
              "    };\n",
              "  });\n",
              "\n",
              "  // Wait for the user to pick the files.\n",
              "  const files = yield {\n",
              "    promise: Promise.race([pickedPromise, cancelPromise]),\n",
              "    response: {\n",
              "      action: 'starting',\n",
              "    }\n",
              "  };\n",
              "\n",
              "  cancel.remove();\n",
              "\n",
              "  // Disable the input element since further picks are not allowed.\n",
              "  inputElement.disabled = true;\n",
              "\n",
              "  if (!files) {\n",
              "    return {\n",
              "      response: {\n",
              "        action: 'complete',\n",
              "      }\n",
              "    };\n",
              "  }\n",
              "\n",
              "  for (const file of files) {\n",
              "    const li = document.createElement('li');\n",
              "    li.append(span(file.name, {fontWeight: 'bold'}));\n",
              "    li.append(span(\n",
              "        `(${file.type || 'n/a'}) - ${file.size} bytes, ` +\n",
              "        `last modified: ${\n",
              "            file.lastModifiedDate ? file.lastModifiedDate.toLocaleDateString() :\n",
              "                                    'n/a'} - `));\n",
              "    const percent = span('0% done');\n",
              "    li.appendChild(percent);\n",
              "\n",
              "    outputElement.appendChild(li);\n",
              "\n",
              "    const fileDataPromise = new Promise((resolve) => {\n",
              "      const reader = new FileReader();\n",
              "      reader.onload = (e) => {\n",
              "        resolve(e.target.result);\n",
              "      };\n",
              "      reader.readAsArrayBuffer(file);\n",
              "    });\n",
              "    // Wait for the data to be ready.\n",
              "    let fileData = yield {\n",
              "      promise: fileDataPromise,\n",
              "      response: {\n",
              "        action: 'continue',\n",
              "      }\n",
              "    };\n",
              "\n",
              "    // Use a chunked sending to avoid message size limits. See b/62115660.\n",
              "    let position = 0;\n",
              "    do {\n",
              "      const length = Math.min(fileData.byteLength - position, MAX_PAYLOAD_SIZE);\n",
              "      const chunk = new Uint8Array(fileData, position, length);\n",
              "      position += length;\n",
              "\n",
              "      const base64 = btoa(String.fromCharCode.apply(null, chunk));\n",
              "      yield {\n",
              "        response: {\n",
              "          action: 'append',\n",
              "          file: file.name,\n",
              "          data: base64,\n",
              "        },\n",
              "      };\n",
              "\n",
              "      let percentDone = fileData.byteLength === 0 ?\n",
              "          100 :\n",
              "          Math.round((position / fileData.byteLength) * 100);\n",
              "      percent.textContent = `${percentDone}% done`;\n",
              "\n",
              "    } while (position < fileData.byteLength);\n",
              "  }\n",
              "\n",
              "  // All done.\n",
              "  yield {\n",
              "    response: {\n",
              "      action: 'complete',\n",
              "    }\n",
              "  };\n",
              "}\n",
              "\n",
              "scope.google = scope.google || {};\n",
              "scope.google.colab = scope.google.colab || {};\n",
              "scope.google.colab._files = {\n",
              "  _uploadFiles,\n",
              "  _uploadFilesContinue,\n",
              "};\n",
              "})(self);\n",
              "</script> "
            ]
          },
          "metadata": {}
        },
        {
          "output_type": "stream",
          "name": "stdout",
          "text": [
            "Saving netflix_titles.csv to netflix_titles.csv\n"
          ]
        }
      ]
    },
    {
      "cell_type": "code",
      "source": [
        "df = spark.read.csv(\"netflix_titles.csv\", header=True, inferSchema=True)\n",
        "df.printSchema()\n",
        "df.show()"
      ],
      "metadata": {
        "colab": {
          "base_uri": "https://localhost:8080/"
        },
        "id": "iRFpX7KrY-68",
        "outputId": "31f831d6-8a91-49d4-e42e-6132de64e750"
      },
      "execution_count": null,
      "outputs": [
        {
          "output_type": "stream",
          "name": "stdout",
          "text": [
            "root\n",
            " |-- show_id: string (nullable = true)\n",
            " |-- type: string (nullable = true)\n",
            " |-- title: string (nullable = true)\n",
            " |-- director: string (nullable = true)\n",
            " |-- cast: string (nullable = true)\n",
            " |-- country: string (nullable = true)\n",
            " |-- date_added: string (nullable = true)\n",
            " |-- release_year: string (nullable = true)\n",
            " |-- rating: string (nullable = true)\n",
            " |-- duration: string (nullable = true)\n",
            " |-- listed_in: string (nullable = true)\n",
            " |-- description: string (nullable = true)\n",
            "\n",
            "+-------+-------+--------------------+--------------------+--------------------+--------------------+------------------+------------+------+---------+--------------------+--------------------+\n",
            "|show_id|   type|               title|            director|                cast|             country|        date_added|release_year|rating| duration|           listed_in|         description|\n",
            "+-------+-------+--------------------+--------------------+--------------------+--------------------+------------------+------------+------+---------+--------------------+--------------------+\n",
            "|     s1|  Movie|Dick Johnson Is Dead|     Kirsten Johnson|                NULL|       United States|September 25, 2021|        2020| PG-13|   90 min|       Documentaries|As her father nea...|\n",
            "|     s2|TV Show|       Blood & Water|                NULL|Ama Qamata, Khosi...|        South Africa|September 24, 2021|        2021| TV-MA|2 Seasons|International TV ...|After crossing pa...|\n",
            "|     s3|TV Show|           Ganglands|     Julien Leclercq|Sami Bouajila, Tr...|                NULL|September 24, 2021|        2021| TV-MA| 1 Season|Crime TV Shows, I...|To protect his fa...|\n",
            "|     s4|TV Show|Jailbirds New Orl...|                NULL|                NULL|                NULL|September 24, 2021|        2021| TV-MA| 1 Season|Docuseries, Reali...|Feuds, flirtation...|\n",
            "|     s5|TV Show|        Kota Factory|                NULL|Mayur More, Jiten...|               India|September 24, 2021|        2021| TV-MA|2 Seasons|International TV ...|In a city of coac...|\n",
            "|     s6|TV Show|       Midnight Mass|       Mike Flanagan|Kate Siegel, Zach...|                NULL|September 24, 2021|        2021| TV-MA| 1 Season|TV Dramas, TV Hor...|The arrival of a ...|\n",
            "|     s7|  Movie|My Little Pony: A...|Robert Cullen, Jo...|Vanessa Hudgens, ...|                NULL|September 24, 2021|        2021|    PG|   91 min|Children & Family...|Equestria's divid...|\n",
            "|     s8|  Movie|             Sankofa|        Haile Gerima|Kofi Ghanaba, Oya...|United States, Gh...|September 24, 2021|        1993| TV-MA|  125 min|Dramas, Independe...|On a photo shoot ...|\n",
            "|     s9|TV Show|The Great British...|     Andy Devonshire|Mel Giedroyc, Sue...|      United Kingdom|September 24, 2021|        2021| TV-14|9 Seasons|British TV Shows,...|A talented batch ...|\n",
            "|    s10|  Movie|        The Starling|      Theodore Melfi|Melissa McCarthy,...|       United States|September 24, 2021|        2021| PG-13|  104 min|    Comedies, Dramas|A woman adjusting...|\n",
            "|    s11|TV Show|Vendetta: Truth, ...|                NULL|                NULL|                NULL|September 24, 2021|        2021| TV-MA| 1 Season|Crime TV Shows, D...|\"Sicily boasts a ...|\n",
            "|    s12|TV Show|    Bangkok Breaking|   Kongkiat Komesiri|Sukollawat Kanaro...|                NULL|September 23, 2021|        2021| TV-MA| 1 Season|Crime TV Shows, I...|Struggling to ear...|\n",
            "|    s13|  Movie|        Je Suis Karl| Christian Schwochow|Luna Wedler, Jann...|Germany, Czech Re...|September 23, 2021|        2021| TV-MA|  127 min|Dramas, Internati...|After most of her...|\n",
            "|    s14|  Movie|Confessions of an...|       Bruno Garotti|Klara Castanho, L...|                NULL|September 22, 2021|        2021| TV-PG|   91 min|Children & Family...|When the clever b...|\n",
            "|    s15|TV Show|Crime Stories: In...|                NULL|                NULL|                NULL|September 22, 2021|        2021| TV-MA| 1 Season|British TV Shows,...|Cameras following...|\n",
            "|    s16|TV Show|   Dear White People|                NULL|Logan Browning, B...|       United States|September 22, 2021|        2021| TV-MA|4 Seasons|TV Comedies, TV D...|\"Students of colo...|\n",
            "|    s17|  Movie|Europe's Most Dan...|Pedro de Echave G...|                NULL|                NULL|September 22, 2021|        2020| TV-MA|   67 min|Documentaries, In...|Declassified docu...|\n",
            "|    s18|TV Show|     Falsa identidad|                NULL|Luis Ernesto Fran...|              Mexico|September 22, 2021|        2020| TV-MA|2 Seasons|Crime TV Shows, S...|Strangers Diego a...|\n",
            "|    s19|  Movie|           Intrusion|          Adam Salky|Freida Pinto, Log...|                NULL|September 22, 2021|        2021| TV-14|   94 min|           Thrillers|After a deadly ho...|\n",
            "|    s20|TV Show|              Jaguar|                NULL|Blanca Suárez, Iv...|                NULL|September 22, 2021|        2021| TV-MA| 1 Season|International TV ...|In the 1960s, a H...|\n",
            "+-------+-------+--------------------+--------------------+--------------------+--------------------+------------------+------------+------+---------+--------------------+--------------------+\n",
            "only showing top 20 rows\n",
            "\n"
          ]
        }
      ]
    },
    {
      "cell_type": "markdown",
      "source": [
        "## Some Basic EDA"
      ],
      "metadata": {
        "id": "J0gVoaEWcfEk"
      }
    },
    {
      "cell_type": "code",
      "source": [
        "print(\"Total rows:\", df.count())\n",
        "\n",
        "print(\"Columns:\", df.columns)"
      ],
      "metadata": {
        "colab": {
          "base_uri": "https://localhost:8080/"
        },
        "id": "taVljhPqE5-h",
        "outputId": "da60ca3b-1ba2-47df-d51a-44ff5a621aa2"
      },
      "execution_count": null,
      "outputs": [
        {
          "output_type": "stream",
          "name": "stdout",
          "text": [
            "Total rows: 8809\n",
            "Columns: ['show_id', 'type', 'title', 'director', 'cast', 'country', 'date_added', 'release_year', 'rating', 'duration', 'listed_in', 'description']\n"
          ]
        }
      ]
    },
    {
      "cell_type": "markdown",
      "source": [
        "## Basic Cleaning of Data"
      ],
      "metadata": {
        "id": "hgv9zcKZGydI"
      }
    },
    {
      "cell_type": "code",
      "source": [
        "df = df.dropDuplicates()\n",
        "\n",
        "df = df.na.drop(subset=['title'])\n",
        "\n",
        "for c in df.columns:\n",
        "    nulls = df.filter(col(c).isNull()).count()\n",
        "    print(f\"Nulls in {c}: {nulls}\")\n"
      ],
      "metadata": {
        "colab": {
          "base_uri": "https://localhost:8080/"
        },
        "id": "u4ZHvW1bFCn1",
        "outputId": "d176d428-671e-40c2-aaf6-9d578c077a4c"
      },
      "execution_count": null,
      "outputs": [
        {
          "output_type": "stream",
          "name": "stdout",
          "text": [
            "Nulls in show_id: 0\n",
            "Nulls in type: 0\n",
            "Nulls in title: 0\n",
            "Nulls in director: 2635\n",
            "Nulls in cast: 825\n",
            "Nulls in country: 831\n",
            "Nulls in date_added: 12\n",
            "Nulls in release_year: 1\n",
            "Nulls in rating: 5\n",
            "Nulls in duration: 4\n",
            "Nulls in listed_in: 1\n",
            "Nulls in description: 1\n"
          ]
        }
      ]
    },
    {
      "cell_type": "code",
      "source": [
        "df.filter(~col(\"release_year\").rlike(\"^\\d{4}$\")).select(\"release_year\", \"title\").show(100)\n",
        "df = df.filter(col(\"release_year\").rlike(\"^\\d{4}$\"))\n",
        "df.count()"
      ],
      "metadata": {
        "colab": {
          "base_uri": "https://localhost:8080/"
        },
        "id": "hPX7TAXTL0zT",
        "outputId": "cb7cbaa1-2eeb-49a2-9bd3-432c9254abd3"
      },
      "execution_count": null,
      "outputs": [
        {
          "output_type": "stream",
          "name": "stdout",
          "text": [
            "+-----------------+--------------------+\n",
            "|     release_year|               title|\n",
            "+-----------------+--------------------+\n",
            "|       Paul Sambo|        King of Boys|\n",
            "| January 15, 2021|What Would Sophia...|\n",
            "|   Peter Ferriero|            Backfire|\n",
            "|       Nick Kroll|Get Him to the Greek|\n",
            "|  August 13, 2020|        An Easy Girl|\n",
            "|     Ted Ferguson|    Hurricane Bianca|\n",
            "|   Francis Weddey| Beasts of No Nation|\n",
            "|   Charles Rocket|  Dances with Wolves|\n",
            "|    Nse Ikpe-Etim|King of Boys: The...|\n",
            "| January 13, 2021| An Imperfect Murder|\n",
            "| Kristen Johnston|Hurricane Bianca:...|\n",
            "|          Dr. Dre|      Rhyme & Reason|\n",
            "|    United States| The Next Karate Kid|\n",
            "| Marquell Manning|             Dayveon|\n",
            "| Álvaro Cervantes|Offering to the S...|\n",
            "|     Imanol Arias|The Legacy of the...|\n",
            "|      Jade Eshete|         It's Bruno!|\n",
            "|December 15, 2020|       The Challenge|\n",
            "|    June 12, 2021|To All the Boys: ...|\n",
            "+-----------------+--------------------+\n",
            "\n"
          ]
        },
        {
          "output_type": "execute_result",
          "data": {
            "text/plain": [
              "8787"
            ]
          },
          "metadata": {},
          "execution_count": 9
        }
      ]
    },
    {
      "cell_type": "markdown",
      "source": [
        "## Filtering data"
      ],
      "metadata": {
        "id": "9_mf8bZsG9yI"
      }
    },
    {
      "cell_type": "markdown",
      "source": [
        "Using dot notation/method chaining to:\n",
        "* Count total rows\n",
        "* Count by Type (Movie vs TV Show)\n",
        "* Top 10 Countries with Most Content\n",
        "* Filter Shows Released After 2018"
      ],
      "metadata": {
        "id": "RB0OjUBDdsPz"
      }
    },
    {
      "cell_type": "code",
      "source": [
        "print(f\"Total rows: {df.count()}\")\n",
        "df.groupBy(\"type\").count().show()\n",
        "df.groupBy(\"country\").count().orderBy(\"count\", ascending=False).show(10)\n",
        "df.filter(df[\"release_year\"] > 2018).select(\"title\", \"release_year\").show(10)"
      ],
      "metadata": {
        "colab": {
          "base_uri": "https://localhost:8080/"
        },
        "id": "RZ4KkTdkZFU2",
        "outputId": "d3a0dbcd-ba29-4676-8295-fef0ae6e30c4"
      },
      "execution_count": null,
      "outputs": [
        {
          "output_type": "stream",
          "name": "stdout",
          "text": [
            "Total rows: 8787\n",
            "+-------+-----+\n",
            "|   type|count|\n",
            "+-------+-----+\n",
            "|TV Show| 2673|\n",
            "|  Movie| 6114|\n",
            "+-------+-----+\n",
            "\n",
            "+--------------+-----+\n",
            "|       country|count|\n",
            "+--------------+-----+\n",
            "| United States| 2805|\n",
            "|         India|  972|\n",
            "|          NULL|  830|\n",
            "|United Kingdom|  419|\n",
            "|         Japan|  245|\n",
            "|   South Korea|  199|\n",
            "|        Canada|  181|\n",
            "|         Spain|  145|\n",
            "|        France|  123|\n",
            "|        Mexico|  110|\n",
            "+--------------+-----+\n",
            "only showing top 10 rows\n",
            "\n",
            "+--------------------+------------+\n",
            "|               title|release_year|\n",
            "+--------------------+------------+\n",
            "|               Aziza|        2019|\n",
            "|Jungle Beat: The ...|        2021|\n",
            "|      Alone/Together|        2019|\n",
            "|     The Wolf's Call|        2019|\n",
            "|         Paris Is Us|        2019|\n",
            "|      The Underclass|        2020|\n",
            "|           Al acecho|        2019|\n",
            "|Dragon Quest Your...|        2019|\n",
            "|             Monsoon|        2020|\n",
            "|  Thomas and Friends|        2020|\n",
            "+--------------------+------------+\n",
            "only showing top 10 rows\n",
            "\n"
          ]
        }
      ]
    },
    {
      "cell_type": "markdown",
      "source": [
        "Grouping by release year"
      ],
      "metadata": {
        "id": "YTk6I4RqHBPh"
      }
    },
    {
      "cell_type": "code",
      "source": [
        "df_grouped = (\n",
        "    df.groupBy(\"release_year\")\n",
        "    .count()\n",
        "    .orderBy(desc(\"release_year\"))\n",
        ")\n",
        "\n",
        "df_grouped.show(100)\n"
      ],
      "metadata": {
        "colab": {
          "base_uri": "https://localhost:8080/"
        },
        "id": "ighSykmbFIG_",
        "outputId": "5db7c55d-dd8c-4620-9a4b-f1e2ee497e6e"
      },
      "execution_count": null,
      "outputs": [
        {
          "output_type": "stream",
          "name": "stdout",
          "text": [
            "+------------+-----+\n",
            "|release_year|count|\n",
            "+------------+-----+\n",
            "|        2021|  589|\n",
            "|        2020|  952|\n",
            "|        2019| 1026|\n",
            "|        2018| 1145|\n",
            "|        2017| 1030|\n",
            "|        2016|  901|\n",
            "|        2015|  559|\n",
            "|        2014|  352|\n",
            "|        2013|  288|\n",
            "|        2012|  237|\n",
            "|        2011|  185|\n",
            "|        2010|  193|\n",
            "|        2009|  152|\n",
            "|        2008|  136|\n",
            "|        2007|   88|\n",
            "|        2006|   95|\n",
            "|        2005|   80|\n",
            "|        2004|   64|\n",
            "|        2003|   61|\n",
            "|        2002|   51|\n",
            "|        2001|   45|\n",
            "|        2000|   37|\n",
            "|        1999|   39|\n",
            "|        1998|   36|\n",
            "|        1997|   37|\n",
            "|        1996|   24|\n",
            "|        1995|   25|\n",
            "|        1994|   21|\n",
            "|        1993|   28|\n",
            "|        1992|   23|\n",
            "|        1991|   17|\n",
            "|        1990|   21|\n",
            "|        1989|   16|\n",
            "|        1988|   18|\n",
            "|        1987|    8|\n",
            "|        1986|   13|\n",
            "|        1985|   10|\n",
            "|        1984|   12|\n",
            "|        1983|   11|\n",
            "|        1982|   17|\n",
            "|        1981|   13|\n",
            "|        1980|   11|\n",
            "|        1979|   11|\n",
            "|        1978|    7|\n",
            "|        1977|    7|\n",
            "|        1976|    9|\n",
            "|        1975|    7|\n",
            "|        1974|    7|\n",
            "|        1973|   10|\n",
            "|        1972|    5|\n",
            "|        1971|    5|\n",
            "|        1970|    2|\n",
            "|        1969|    2|\n",
            "|        1968|    3|\n",
            "|        1967|    5|\n",
            "|        1966|    1|\n",
            "|        1965|    2|\n",
            "|        1964|    2|\n",
            "|        1963|    2|\n",
            "|        1962|    3|\n",
            "|        1961|    1|\n",
            "|        1960|    4|\n",
            "|        1959|    1|\n",
            "|        1958|    3|\n",
            "|        1956|    2|\n",
            "|        1955|    3|\n",
            "|        1954|    2|\n",
            "|        1947|    1|\n",
            "|        1946|    2|\n",
            "|        1945|    4|\n",
            "|        1944|    2|\n",
            "|        1943|    3|\n",
            "|        1942|    2|\n",
            "|        1925|    1|\n",
            "+------------+-----+\n",
            "\n"
          ]
        }
      ]
    },
    {
      "cell_type": "markdown",
      "source": [
        "## Filtering by a keyword in title"
      ],
      "metadata": {
        "id": "w2WLNhapHbkY"
      }
    },
    {
      "cell_type": "code",
      "source": [
        "# Titles containing \"Love\"\n",
        "df.filter(col(\"title\").contains(\"Love\")).select(\"title\", \"release_year\").show(10)"
      ],
      "metadata": {
        "colab": {
          "base_uri": "https://localhost:8080/"
        },
        "id": "pwdBQir8HatP",
        "outputId": "71c6249f-06a8-4660-8df8-707211c45630"
      },
      "execution_count": null,
      "outputs": [
        {
          "output_type": "stream",
          "name": "stdout",
          "text": [
            "+--------------------+------------+\n",
            "|               title|release_year|\n",
            "+--------------------+------------+\n",
            "|   When Love Happens|        2014|\n",
            "|          Much Loved|        2015|\n",
            "|     P.S. I Love You|        2007|\n",
            "|           Love Shot|        2018|\n",
            "|    Falling Inn Love|        2019|\n",
            "|      Love Ni Bhavai|        2017|\n",
            "|The Forest of Lov...|        2020|\n",
            "|Love Like the Fal...|        2020|\n",
            "|  The Forest of Love|        2019|\n",
            "|     Brother in Love|        2019|\n",
            "+--------------------+------------+\n",
            "only showing top 10 rows\n",
            "\n"
          ]
        }
      ]
    },
    {
      "cell_type": "markdown",
      "source": [
        "## Spark SQL\n",
        "\n",
        "A SQL view called netflix to run SQL queries. This shows Spark’s flexibility in that it allows us to use SQL on big data directly."
      ],
      "metadata": {
        "id": "QjOVKzmadEFX"
      }
    },
    {
      "cell_type": "code",
      "source": [
        "df.createOrReplaceTempView(\"netflix\")\n",
        "\n",
        "# Count Movies vs TV Shows\n",
        "spark.sql(\"SELECT type, COUNT(*) AS total FROM netflix GROUP BY type\").show()\n",
        "\n",
        "# Top 5 Directors with Most Titles\n",
        "spark.sql(\"\"\"\n",
        "SELECT director, COUNT(*) as total_titles\n",
        "FROM netflix\n",
        "WHERE director IS NOT NULL\n",
        "GROUP BY director\n",
        "ORDER BY total_titles DESC\n",
        "LIMIT 5\n",
        "\"\"\").show()\n",
        "\n",
        "# Movies from South Africa\n",
        "spark.sql(\"\"\"\n",
        "SELECT title, release_year\n",
        "FROM netflix\n",
        "WHERE type = 'Movie' AND country LIKE '%South Africa%'\n",
        "ORDER BY release_year DESC\n",
        "\"\"\").show(5)"
      ],
      "metadata": {
        "colab": {
          "base_uri": "https://localhost:8080/"
        },
        "id": "aAi_NAWbciHG",
        "outputId": "c6e46761-b626-46a1-cdc4-bc2d3b1060b3"
      },
      "execution_count": null,
      "outputs": [
        {
          "output_type": "stream",
          "name": "stdout",
          "text": [
            "+-------+-----+\n",
            "|   type|total|\n",
            "+-------+-----+\n",
            "|TV Show| 2673|\n",
            "|  Movie| 6114|\n",
            "+-------+-----+\n",
            "\n",
            "+--------------------+------------+\n",
            "|            director|total_titles|\n",
            "+--------------------+------------+\n",
            "|       Rajiv Chilaka|          19|\n",
            "|Raúl Campos, Jan ...|          18|\n",
            "|        Marcus Raboy|          16|\n",
            "|         Suhas Kadav|          16|\n",
            "|           Jay Karas|          14|\n",
            "+--------------------+------------+\n",
            "\n",
            "+--------------------+------------+\n",
            "|               title|release_year|\n",
            "+--------------------+------------+\n",
            "|Loyiso Gola: Unle...|        2021|\n",
            "|Trippin' with the...|        2021|\n",
            "|                Slay|        2021|\n",
            "|      I Am All Girls|        2021|\n",
            "|    Seriously Single|        2020|\n",
            "+--------------------+------------+\n",
            "only showing top 5 rows\n",
            "\n"
          ]
        }
      ]
    },
    {
      "cell_type": "markdown",
      "source": [
        "## Visualization\n",
        "\n",
        "We need to convert Spark DataFrame to Pandas for visualization."
      ],
      "metadata": {
        "id": "kkO6zGBYdGxP"
      }
    },
    {
      "cell_type": "code",
      "source": [
        "# Top 10 countries\n",
        "country_data = df.filter(df[\"country\"].isNotNull()) \\\n",
        "    .groupBy(\"country\").count() \\\n",
        "    .orderBy(\"count\", ascending=False) \\\n",
        "    .limit(10) \\\n",
        "    .toPandas()\n",
        "\n",
        "plt.figure(figsize=(10,5))\n",
        "plt.bar(country_data[\"country\"], country_data[\"count\"])\n",
        "plt.xticks(rotation=45)\n",
        "plt.title(\"Top 10 Countries by Netflix Content\")\n",
        "plt.xlabel(\"Country\")\n",
        "plt.ylabel(\"Number of Titles\")\n",
        "plt.show()"
      ],
      "metadata": {
        "colab": {
          "base_uri": "https://localhost:8080/",
          "height": 562
        },
        "id": "O4EQdGYJcmIt",
        "outputId": "73df7391-3261-4593-f4ec-d94655b12207"
      },
      "execution_count": null,
      "outputs": [
        {
          "output_type": "display_data",
          "data": {
            "text/plain": [
              "<Figure size 1000x500 with 1 Axes>"
            ],
            "image/png": "[encoded data removed]"
          },
          "metadata": {}
        }
      ]
    },
    {
      "cell_type": "code",
      "source": [
        "# Total titles per year\n",
        "titles_per_year = (\n",
        "    df.groupBy(\"release_year\")\n",
        "    .count()\n",
        "    .orderBy(\"release_year\")\n",
        "    .toPandas()\n",
        ")\n",
        "\n",
        "plt.figure(figsize=(15,5))\n",
        "plt.plot(titles_per_year[\"release_year\"], titles_per_year[\"count\"])\n",
        "plt.xlabel(\"Release Year\")\n",
        "plt.ylabel(\"Number of Titles\")\n",
        "plt.xticks(rotation=90)\n",
        "plt.title(\"Number of Netflix Titles Released per Year\")\n",
        "plt.show()"
      ],
      "metadata": {
        "colab": {
          "base_uri": "https://localhost:8080/",
          "height": 509
        },
        "id": "L3ekDFogIHr_",
        "outputId": "a79046b6-bb81-4b31-e5c3-bcebd40dfb44"
      },
      "execution_count": null,
      "outputs": [
        {
          "output_type": "display_data",
          "data": {
            "text/plain": [
              "<Figure size 1500x500 with 1 Axes>"
            ],
            "image/png": "[encoded data removed]"
          },
          "metadata": {}
        }
      ]
    },
    {
      "cell_type": "markdown",
      "source": [
        "## Discussion Questions"
      ],
      "metadata": {
        "id": "40SULobIPt6w"
      }
    },
    {
      "cell_type": "markdown",
      "source": [
        "Why is Spark better than Pandas for large datasets? Hint: Distributed processing vs single machine memory limits\n",
        "\n",
        "How does Spark SQL make querying easier?\n",
        "\n",
        "Where would a Spark cluster provide cost advantages for a company like Netflix?"
      ],
      "metadata": {
        "id": "yAsPP4sMd8bY"
      }
    }
  ]
}